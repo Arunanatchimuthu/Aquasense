{
 "cells": [
  {
   "cell_type": "code",
   "execution_count": 7,
   "metadata": {},
   "outputs": [
    {
     "name": "stderr",
     "output_type": "stream",
     "text": [
      "C:\\Users\\Hp\\AppData\\Local\\Temp\\ipykernel_4016\\1147205515.py:11: DtypeWarning: Columns (4,8) have mixed types. Specify dtype option on import or set low_memory=False.\n",
      "  data = pd.read_csv(r'C:\\Users\\Hp\\OneDrive\\Desktop\\AQUASENSE\\thershold dataset.csv')\n"
     ]
    },
    {
     "name": "stdout",
     "output_type": "stream",
     "text": [
      "Gradient Boosting Regressor Results\n",
      "MAE: 9.1556, MSE:137.133513,R2: 0.9979\n",
      "Random Forest Regressor Results\n",
      "MAE: 1.4050, MSE:8.145472,R2: 0.9999\n",
      "XGBoost Regressor Results\n",
      "MAE: 3.2852, MSE:20.180790,R2: 0.9997\n"
     ]
    }
   ],
   "source": [
    "from sklearn.ensemble import GradientBoostingRegressor, RandomForestRegressor\n",
    "from xgboost import XGBRegressor\n",
    "from sklearn.svm import SVR\n",
    "from sklearn.model_selection import train_test_split\n",
    "from sklearn.preprocessing import StandardScaler, LabelEncoder\n",
    "from sklearn.metrics import mean_absolute_error, r2_score,mean_squared_error\n",
    "import pandas as pd\n",
    "import numpy as np\n",
    "\n",
    "# Load the dataset\n",
    "data = pd.read_csv(r'C:\\Users\\Hp\\OneDrive\\Desktop\\AQUASENSE\\thershold dataset.csv')\n",
    "\n",
    "# Data Preprocessing\n",
    "label_encoder = LabelEncoder()\n",
    "# Ensure the encoder learns from all unique months in the dataset\n",
    "if 'Month' in data.columns:\n",
    "    data['Month'] = label_encoder.fit_transform(data['Month'].astype(str))\n",
    "\n",
    "# Ensure no strings remain in numeric columns\n",
    "data = data.apply(pd.to_numeric, errors='coerce')\n",
    "data.dropna(inplace=True)\n",
    "\n",
    "# Select features and target\n",
    "X = data.drop('Water_Usage', axis=1)\n",
    "Y = data['Water_Usage']\n",
    "\n",
    "# Split the data into training and testing sets\n",
    "X_train, X_test, Y_train, Y_test = train_test_split(X, Y, test_size=0.2, random_state=42)\n",
    "\n",
    "# Feature scaling\n",
    "scaler = StandardScaler()\n",
    "X_train = scaler.fit_transform(X_train)\n",
    "X_test = scaler.transform(X_test)\n",
    "\n",
    "# Define a function to train, predict, and evaluate each model\n",
    "def train_and_evaluate_model(model, model_name):\n",
    "    model.fit(X_train, Y_train)\n",
    "    predictions = model.predict(X_test)\n",
    "    mae = mean_absolute_error(Y_test, predictions)\n",
    "    mse = mean_squared_error(Y_test, predictions)\n",
    "    r2 = r2_score(Y_test, predictions)\n",
    "    print(f\"{model_name} Results\")\n",
    "    print(f\"MAE: {mae:.4f}, MSE:{mse:4f},R2: {r2:.4f}\")\n",
    "\n",
    "# Gradient Boosting Regressor\n",
    "gb_regressor = GradientBoostingRegressor()\n",
    "train_and_evaluate_model(gb_regressor, \"Gradient Boosting Regressor\")\n",
    "\n",
    "# Random Forest Regressor\n",
    "rf_regressor = RandomForestRegressor()\n",
    "train_and_evaluate_model(rf_regressor, \"Random Forest Regressor\")\n",
    "\n",
    "# XGBoost Regressor\n",
    "xgb_regressor = XGBRegressor()\n",
    "train_and_evaluate_model(xgb_regressor, \"XGBoost Regressor\")\n",
    "\n",
    "\n"
   ]
  },
  {
   "cell_type": "code",
   "execution_count": null,
   "metadata": {},
   "outputs": [
    {
     "name": "stdout",
     "output_type": "stream",
     "text": [
      "Example Predictions:\n",
      "Predicted Water Usage (GB): 713.8097337662264\n"
     ]
    }
   ],
   "source": [
    "\n",
    "# Prediction function for user input\n",
    "def predict_water_usage(model,Month, No_of_Adults, No_of_Children, Temperature, Humidity, House_Size, BHK, Bathrooms):\n",
    "    # Encode the month using the pre-trained label encoder\n",
    "    month_encoded = label_encoder.transform([Month])[0]\n",
    "    input_data = pd.DataFrame([[month_encoded, No_of_Adults, No_of_Children, Temperature, Humidity, House_Size, BHK, Bathrooms]],\n",
    "                              columns=['Month', 'No_of_Adults', 'No_of_Children', 'Temperature', 'Humidity', 'House_Size', 'BHK', 'Bathrooms'])\n",
    "    input_data = scaler.transform(input_data)\n",
    "    prediction = model.predict(input_data)\n",
    "    return prediction[0]\n",
    "\n",
    "# Example predictions for each model\n",
    "print(\"Example Predictions:\")\n",
    "predicted_usage_gb = predict_water_usage(gb_regressor, \"Nov\", 1, 3, 30, 52.01, 1500, 3, 2)\n",
    "print(f\"Predicted Water Usage (GB): {predicted_usage_gb}\")\n",
    "\n",
    "\n",
    "predicted_usage_rf = predict_water_usage(rf_regressor, \"Jan\", 4, 1, 40, 52.01, 1500, 3, 2)\n",
    "print(f\"Predicted Water Usage (RF): {predicted_usage_rf}\")\n",
    "\n",
    "predicted_usage_xgb = predict_water_usage(xgb_regressor, \"Jan\", 4, 1, 40, 52.01, 1500, 3, 2)\n",
    "print(f\"Predicted Water Usage (XGB): {predicted_usage_xgb}\")\n"
   ]
  }
 ],
 "metadata": {
  "kernelspec": {
   "display_name": "Python 3",
   "language": "python",
   "name": "python3"
  },
  "language_info": {
   "codemirror_mode": {
    "name": "ipython",
    "version": 3
   },
   "file_extension": ".py",
   "mimetype": "text/x-python",
   "name": "python",
   "nbconvert_exporter": "python",
   "pygments_lexer": "ipython3",
   "version": "3.9.6"
  }
 },
 "nbformat": 4,
 "nbformat_minor": 2
}
